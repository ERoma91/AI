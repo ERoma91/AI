{
 "cells": [
  {
   "cell_type": "markdown",
   "source": [
    "Erick Rodriguez Martinez\n",
    "+52 452-159-07-12\n",
    "+1 653 325 81 15"
   ],
   "metadata": {
    "collapsed": false
   }
  },
  {
   "cell_type": "markdown",
   "source": [
    "# [PIP] Python Installation Packages"
   ],
   "metadata": {
    "collapsed": false
   }
  },
  {
   "cell_type": "code",
   "execution_count": 1804,
   "outputs": [],
   "source": [
    "# xlrd is a library for reading data and formatting information from Excel files in the historical \".xls\" format.\n",
    "#@TODO Remove fist # to install \"xlrd\"\n",
    "#!pip install xlrd\n",
    "#!pip install openpyxl\n",
    "\n",
    "# An open-source library that provides high-performance data manipulation in Python\n",
    "#@TODO Remove first # to install \"pandas\"\n",
    "#!pip install pandas\n",
    "\n",
    "# Python library dedicated to reading, manipulating and generating PDF documents\n",
    "#@TODO Remove first # to install \"borb\"\n",
    "#!pip install borb"
   ],
   "metadata": {
    "collapsed": false
   }
  },
  {
   "cell_type": "markdown",
   "source": [
    "# [PLI] Python Library Imports"
   ],
   "metadata": {
    "collapsed": false
   }
  },
  {
   "cell_type": "code",
   "execution_count": 1805,
   "outputs": [],
   "source": [
    "import pandas as pd\n",
    "from pandas import ExcelWriter\n",
    "\n",
    "import numpy as np\n",
    "\n",
    "from decimal import Decimal\n",
    "\n",
    "from borb.pdf import MultiColumnLayout\n",
    "from borb.pdf import SingleColumnLayoutWithOverflow\n",
    "from borb.pdf import PageLayout\n",
    "from borb.pdf import TableUtil\n",
    "from borb.pdf import TableCell\n",
    "\n",
    "from borb.pdf import FlexibleColumnWidthTable\n",
    "from borb.pdf import Paragraph\n",
    "from borb.pdf import Document\n",
    "from borb.pdf import Page\n",
    "from borb.pdf import PDF\n",
    "from borb.pdf.page.page_size import PageSize\n",
    "\n"
   ],
   "metadata": {
    "collapsed": false
   }
  },
  {
   "cell_type": "markdown",
   "source": [
    "# [FNC] Functions"
   ],
   "metadata": {
    "collapsed": false
   }
  },
  {
   "cell_type": "code",
   "execution_count": 1806,
   "outputs": [],
   "source": [
    "def f_cleanTypeAndHierachy(dataFrame, typeCol, str1, hierachyCol, str2):\n",
    "    # Clean DataFrame Type Col -NaN- values and replace by str1\n",
    "    _dataFrame = dataFrame\n",
    "    _dataFrame.iloc[:, typeCol] = _dataFrame.iloc[:, typeCol].replace(np.nan, str1)\n",
    "\n",
    "    # Clean DataFrame Hierarchy Col -Dots '.'- and replace by str2\n",
    "    for i in range(len(_dataFrame.iloc[:, hierachyCol])):\n",
    "        _dataFrame.iloc[i,hierachyCol] = str(_dataFrame.iat[i,hierachyCol]).replace('.', str2)\n",
    "\n",
    "    return _dataFrame\n",
    "\n",
    "\n",
    "def f_cleanBlankSpaces(dataFrame, col1):\n",
    "    # Clean DataFrame values and replace by ''\n",
    "    _dataFrame = dataFrame\n",
    "\n",
    "    for i in range(len(_dataFrame.iloc[:, col1])):\n",
    "        _dataFrame.iloc[i,col1] = str(_dataFrame.iat[i,col1]).replace(' ', '')\n",
    "\n",
    "    return _dataFrame\n",
    "\n",
    "\n",
    "def f_clearNaN(dataFrame, col1):\n",
    "    _dataFrame = dataFrame\n",
    "\n",
    "    for i in range(len(_dataFrame.iloc[:, col1])):\n",
    "        _dataFrame.iloc[:, col1] = _dataFrame.iloc[:, col1].replace(np.nan, 'N/A')\n",
    "    return  _dataFrame\n",
    "\n",
    "\n",
    "def f_quantityUpdate(dataFrame, hierachyCol, quantityCol):\n",
    "    _dataFrame = dataFrame\n",
    "\n",
    "    row, column = _dataFrame.shape\n",
    "    h = [0] * row\n",
    "    c = [0] * row\n",
    "\n",
    "    for i in range(len(_dataFrame.iloc[:,hierachyCol])):\n",
    "        hierachy = len(str(_dataFrame.iat[i,hierachyCol]))\n",
    "        quantityValue = _dataFrame.iat[i,quantityCol]\n",
    "        sum = 0\n",
    "        if hierachy == 1:\n",
    "            h[1] = quantityValue\n",
    "            c[i] = h[1]\n",
    "        else:\n",
    "            h[hierachy] = quantityValue\n",
    "            c[i] = h[hierachy]\n",
    "            for j in range(hierachy):\n",
    "                if j == 0:\n",
    "                    continue\n",
    "                else:\n",
    "                    c[i] = c[i] * h[j]\n",
    "    #print(c) #@TODO Remove first \"#\" to debug Quantity -[c]- Output\n",
    "\n",
    "    for i in range(len(c)):\n",
    "        _dataFrame.iloc[i,quantityCol] = c[i]\n",
    "\n",
    "    return _dataFrame\n",
    "\n",
    "def f_splitDataFrame(dataFrame, colN, str1):\n",
    "    _dataFrame = dataFrame\n",
    "    colSelect = _dataFrame[_dataFrame.columns[colN]]\n",
    "    _dataFrame = _dataFrame[colSelect == str1]\n",
    "    return  _dataFrame\n",
    "\n",
    "def f_uniqueQuantity(dataFrame):\n",
    "    _dataFrame = dataFrame\n",
    "    row, col = _dataFrame.shape\n",
    "\n",
    "    testValues = _dataFrame.iloc[:,1]\n",
    "    testValues = testValues.unique()\n",
    "    print(testValues)\n",
    "\n",
    "\n",
    "    c = [0] * row\n",
    "    found = [0] * len(testValues)\n",
    "    quantity = [0] * len(testValues)\n",
    "    iteration = 0\n",
    "    rowToDelete = [0] * row\n",
    "    uniqueDataFrame = _dataFrame\n",
    "\n",
    "    for i in range(row):\n",
    "        iteration = 0\n",
    "        print(i)\n",
    "        for j in testValues:\n",
    "            if j == str(_dataFrame.iat[i,1]):\n",
    "                if found[iteration] == 0:\n",
    "                    found[iteration] = 1\n",
    "                    quantity[iteration] += int(_dataFrame.iat[i,3])\n",
    "                else:\n",
    "                    quantity[iteration] += int(_dataFrame.iat[i,3])\n",
    "                    rowToDelete[i] = _dataFrame.index.values[i]\n",
    "                found[iteration] = 1\n",
    "                print(found)\n",
    "            iteration += 1\n",
    "\n",
    "    for i in rowToDelete:\n",
    "        if i != 0:\n",
    "            uniqueDataFrame = uniqueDataFrame.drop(i)\n",
    "            #print(j)\n",
    "\n",
    "    print('Result')\n",
    "    print(found)\n",
    "    print(quantity)\n",
    "    print(rowToDelete)\n",
    "\n",
    "    iteration = 0\n",
    "    for i in quantity:\n",
    "        print(i)\n",
    "        print(iteration)\n",
    "        uniqueDataFrame.iat[iteration,3] = i\n",
    "        iteration += 1\n",
    "    return uniqueDataFrame\n",
    "\n",
    "\n",
    "def f_rawMaterial(dataFrame, colSelect, sort1, sort2, colEvaluate):\n",
    "    _dataFrame = dataFrame\n",
    "    _dataFrame = _dataFrame[_dataFrame.columns[colSelect]]\n",
    "    columnValues = _dataFrame.columns.values.tolist()\n",
    "    #print(columnValues)\n",
    "\n",
    "    _dataFrame = _dataFrame.sort_values(by=columnValues[sort1])\n",
    "    _dataFrame = _dataFrame.sort_values(by=columnValues[sort2])\n",
    "\n",
    "    _dataFrame = _dataFrame[_dataFrame[columnValues[colEvaluate]] > 0]\n",
    "    return _dataFrame"
   ],
   "metadata": {
    "collapsed": false
   }
  },
  {
   "cell_type": "markdown",
   "source": [
    "# [TFNC] Test Functions"
   ],
   "metadata": {
    "collapsed": false
   }
  },
  {
   "cell_type": "code",
   "execution_count": 1807,
   "outputs": [],
   "source": [
    "def f_uniqueRawQuantity(dataFrame):\n",
    "    _dataFrame = dataFrame\n",
    "    row, col = _dataFrame.shape\n",
    "\n",
    "    testValues1 = _dataFrame.iloc[:, 1]\n",
    "    testValues1 = testValues1.unique()\n",
    "    print(testValues1)\n",
    "\n",
    "    testValues2 = _dataFrame.iloc[:, 2]\n",
    "    testValues2 = testValues2.unique()\n",
    "    print(testValues2)\n",
    "\n",
    "    c = [0] * row\n",
    "    found = np.zeros((len(testValues1), len(testValues2)))\n",
    "\n",
    "    quantity = np.zeros((len(testValues1), len(testValues2)))\n",
    "\n",
    "    rowToDelete = [0] * row\n",
    "\n",
    "    uniqueDataFrame = _dataFrame\n",
    "    selectCols = _dataFrame.columns\n",
    "\n",
    "    for i in range(row):\n",
    "        i_iteration = 0\n",
    "        j_iteration = 0\n",
    "        k_iteration = 0\n",
    "        #print(i)\n",
    "        for j in testValues1:\n",
    "            if j == str(_dataFrame.iat[i,1]):\n",
    "                for k in testValues2:\n",
    "                    if k == str(_dataFrame.iat[i,2]):\n",
    "                        #print(str(j_iteration), str(k_iteration))\n",
    "                        if _dataFrame.iat[i,4] > 0:\n",
    "                            quantity[j_iteration, k_iteration] += int(_dataFrame.iat[i,0]) * _dataFrame.iat[i,3] * _dataFrame.iat[i,4]\n",
    "                            #print(quantity[j_iteration, k_iteration])\n",
    "                        else:\n",
    "                            quantity[j_iteration, k_iteration] += int(_dataFrame.iat[i,0]) * _dataFrame.iat[i,3]\n",
    "                            #print(quantity[j_iteration, k_iteration])\n",
    "                        found[j_iteration,k_iteration] = 1\n",
    "                    k_iteration += 1\n",
    "            j_iteration += 1\n",
    "\n",
    "    print(found)\n",
    "    #print(quantity)\n",
    "    df = pd.DataFrame(columns=['Material', 'Presentacion', 'Total'])\n",
    "    row, col = found.shape\n",
    "    for i in range(row):\n",
    "        for j in range(col):\n",
    "            if found[i,j] != 0:\n",
    "                i_data = testValues1[i]\n",
    "                j_data = testValues2[j]\n",
    "                toApend = pd.Series([i_data, j_data, quantity[i,j]], index=['Material', 'Presentacion', 'Total'])\n",
    "                print(toApend)\n",
    "\n",
    "                #df.concat(other=[i_data, j_data], ignore_index=True)\n",
    "                #pd.concat(df, i_data, j_data)\n",
    "                df = pd.concat([df, toApend.to_frame().T], ignore_index=True)\n",
    "    return df"
   ],
   "metadata": {
    "collapsed": false
   }
  },
  {
   "cell_type": "markdown",
   "source": [
    "# [C] Constants"
   ],
   "metadata": {
    "collapsed": false
   }
  },
  {
   "cell_type": "code",
   "execution_count": 1807,
   "outputs": [],
   "source": [],
   "metadata": {
    "collapsed": false
   }
  },
  {
   "cell_type": "markdown",
   "source": [
    "# [PF] Program Flow"
   ],
   "metadata": {
    "collapsed": false
   }
  },
  {
   "cell_type": "code",
   "execution_count": 1808,
   "outputs": [
    {
     "name": "stdout",
     "output_type": "stream",
     "text": [
      "['AA00S029' 'AA00P046' 'AA00P047' 'AA00S001' 'AA00P001' 'AA00S003'\n",
      " 'AA00P002' 'AA00P004' 'AA00S002' 'AA00P003' 'AA00S028' 'AA00P013'\n",
      " 'AA00P048' 'AA00S008' 'AA00P005' 'AA00P012' 'AA00S024' 'AA00P041'\n",
      " 'AA00S006' 'AA00P009' 'AA00P010']\n",
      "0\n",
      "[1, 0, 0, 0, 0, 0, 0, 0, 0, 0, 0, 0, 0, 0, 0, 0, 0, 0, 0, 0, 0]\n",
      "1\n",
      "[1, 1, 0, 0, 0, 0, 0, 0, 0, 0, 0, 0, 0, 0, 0, 0, 0, 0, 0, 0, 0]\n",
      "2\n",
      "[1, 1, 1, 0, 0, 0, 0, 0, 0, 0, 0, 0, 0, 0, 0, 0, 0, 0, 0, 0, 0]\n",
      "3\n",
      "[1, 1, 1, 1, 0, 0, 0, 0, 0, 0, 0, 0, 0, 0, 0, 0, 0, 0, 0, 0, 0]\n",
      "4\n",
      "[1, 1, 1, 1, 1, 0, 0, 0, 0, 0, 0, 0, 0, 0, 0, 0, 0, 0, 0, 0, 0]\n",
      "5\n",
      "[1, 1, 1, 1, 1, 1, 0, 0, 0, 0, 0, 0, 0, 0, 0, 0, 0, 0, 0, 0, 0]\n",
      "6\n",
      "[1, 1, 1, 1, 1, 1, 1, 0, 0, 0, 0, 0, 0, 0, 0, 0, 0, 0, 0, 0, 0]\n",
      "7\n",
      "[1, 1, 1, 1, 1, 1, 1, 1, 0, 0, 0, 0, 0, 0, 0, 0, 0, 0, 0, 0, 0]\n",
      "8\n",
      "[1, 1, 1, 1, 1, 1, 1, 1, 1, 0, 0, 0, 0, 0, 0, 0, 0, 0, 0, 0, 0]\n",
      "9\n",
      "[1, 1, 1, 1, 1, 1, 1, 1, 1, 1, 0, 0, 0, 0, 0, 0, 0, 0, 0, 0, 0]\n",
      "10\n",
      "[1, 1, 1, 1, 1, 1, 1, 1, 1, 1, 1, 0, 0, 0, 0, 0, 0, 0, 0, 0, 0]\n",
      "11\n",
      "[1, 1, 1, 1, 1, 1, 1, 1, 1, 1, 1, 1, 0, 0, 0, 0, 0, 0, 0, 0, 0]\n",
      "12\n",
      "[1, 1, 1, 1, 1, 1, 1, 1, 1, 1, 1, 1, 1, 0, 0, 0, 0, 0, 0, 0, 0]\n",
      "13\n",
      "[1, 1, 1, 1, 1, 1, 1, 1, 1, 1, 1, 1, 1, 1, 0, 0, 0, 0, 0, 0, 0]\n",
      "14\n",
      "[1, 1, 1, 1, 1, 1, 1, 1, 1, 1, 1, 1, 1, 1, 1, 0, 0, 0, 0, 0, 0]\n",
      "15\n",
      "[1, 1, 1, 1, 1, 1, 1, 1, 1, 1, 1, 1, 1, 1, 1, 1, 0, 0, 0, 0, 0]\n",
      "16\n",
      "[1, 1, 1, 1, 1, 1, 1, 1, 1, 1, 1, 1, 1, 1, 1, 1, 1, 0, 0, 0, 0]\n",
      "17\n",
      "[1, 1, 1, 1, 1, 1, 1, 1, 1, 1, 1, 1, 1, 1, 1, 1, 1, 1, 0, 0, 0]\n",
      "18\n",
      "[1, 1, 1, 1, 1, 1, 1, 1, 1, 1, 1, 1, 1, 1, 1, 1, 1, 1, 1, 0, 0]\n",
      "19\n",
      "[1, 1, 1, 1, 1, 1, 1, 1, 1, 1, 1, 1, 1, 1, 1, 1, 1, 1, 1, 1, 0]\n",
      "20\n",
      "[1, 1, 1, 1, 1, 1, 1, 1, 1, 1, 1, 1, 1, 1, 1, 1, 1, 1, 1, 1, 1]\n",
      "Result\n",
      "[1, 1, 1, 1, 1, 1, 1, 1, 1, 1, 1, 1, 1, 1, 1, 1, 1, 1, 1, 1, 1]\n",
      "[1, 1, 1, 2, 2, 1, 1, 2, 2, 2, 1, 2, 1, 2, 2, 4, 10, 10, 20, 20, 20]\n",
      "[0, 0, 0, 0, 0, 0, 0, 0, 0, 0, 0, 0, 0, 0, 0, 0, 0, 0, 0, 0, 0]\n",
      "1\n",
      "0\n",
      "1\n",
      "1\n",
      "1\n",
      "2\n",
      "2\n",
      "3\n",
      "2\n",
      "4\n",
      "1\n",
      "5\n",
      "1\n",
      "6\n",
      "2\n",
      "7\n",
      "2\n",
      "8\n",
      "2\n",
      "9\n",
      "1\n",
      "10\n",
      "2\n",
      "11\n",
      "1\n",
      "12\n",
      "2\n",
      "13\n",
      "2\n",
      "14\n",
      "4\n",
      "15\n",
      "10\n",
      "16\n",
      "10\n",
      "17\n",
      "20\n",
      "18\n",
      "20\n",
      "19\n",
      "20\n",
      "20\n",
      "['HBOLTG20.3750-16x3.5x3.5-N-AC-G' 'HNUTG20.3750-16-D-N-AC-G'\n",
      " 'RHSNBOLT0.375-16x1x1-N-AC-G' 'RLW0.375-AC-G' 'KLNJ0.375-2Z']\n",
      "0\n",
      "[1, 0, 0, 0, 0]\n",
      "1\n",
      "[1, 1, 0, 0, 0]\n",
      "2\n",
      "[1, 1, 1, 0, 0]\n",
      "3\n",
      "[1, 1, 1, 1, 0]\n",
      "4\n",
      "[1, 1, 1, 1, 0]\n",
      "5\n",
      "[1, 1, 1, 1, 1]\n",
      "Result\n",
      "[1, 1, 1, 1, 1]\n",
      "[2, 16, 14, 14, 20]\n",
      "[0, 0, 0, 0, 20, 0]\n",
      "2\n",
      "0\n",
      "16\n",
      "1\n",
      "14\n",
      "2\n",
      "14\n",
      "3\n",
      "20\n",
      "4\n"
     ]
    }
   ],
   "source": [
    "# File Path Configuration and File Read\n",
    "xlsxPath = 'AA00A008.xlsx'\n",
    "xlsxName = xlsxPath.replace('.xlsx', '_M.xlsx')\n",
    "\n",
    "xlsxSrcDF = pd.read_excel(xlsxPath)\n",
    "\n",
    "# Clean Type and Hierarchy Columns\n",
    "xlsxCleanDF = f_cleanTypeAndHierachy(xlsxSrcDF, 0, 'C', 1, '')\n",
    "xlsxToPrint = f_quantityUpdate(xlsxCleanDF, 1, 4)\n",
    "\n",
    "# Delete Hierarchy Column\n",
    "xlsxToPrint = xlsxToPrint.drop(xlsxToPrint.columns[1], axis=1)\n",
    "\n",
    "# Split DataFrame in Manufacture anď Comercial BOMs and Clean of Blank Spaces\n",
    "xlsxManufacture = f_splitDataFrame(xlsxToPrint, 0, 'F')\n",
    "xlsxManufacture = f_cleanBlankSpaces(xlsxManufacture, 1)\n",
    "xlsxManufactureUnique = f_uniqueQuantity(xlsxManufacture)\n",
    "\n",
    "xlsxComercial = f_splitDataFrame(xlsxToPrint, 0, 'C')\n",
    "xlsxComercial = f_cleanBlankSpaces(xlsxComercial, 1)\n",
    "xlsxComericalUnique = f_uniqueQuantity(xlsxComercial)"
   ],
   "metadata": {
    "collapsed": false
   }
  },
  {
   "cell_type": "markdown",
   "source": [
    "# [TPF] Test Program Flow\n"
   ],
   "metadata": {
    "collapsed": false
   }
  },
  {
   "cell_type": "code",
   "execution_count": 1809,
   "outputs": [
    {
     "data": {
      "text/plain": "    Cant.        Material                      Presentación    Largo   Ancho  \\\n13      2  AISI 430 A. I.                      Lám. Cal. 10   131.74   25.40   \n24     20  ASTM A36 Acero                      Lám. Cal. 10    47.35   47.35   \n10      2  AISI 430 A. I.                      Lám. Cal. 12    38.10   38.10   \n1       1  AISI 430 A. I.                      Lám. Cal. 12  1016.00  167.94   \n4       2  AISI 430 A. I.                      Lám. Cal. 12    50.80   50.80   \n8       2  AISI 430 A. I.                      Lám. Cal. 12   101.60   38.10   \n17      4  AISI 430 A. I.                      Lám. Cal. 12   101.60   38.10   \n2       1  AISI 430 A. I.                      Lám. Cal. 12  1016.00  167.94   \n7       1  AISI 430 A. I.  PTR Cuadrado 1.5\" x 1.5\" Cal. 14  1103.20     NaN   \n16      2  AISI 430 A. I.  PTR Cuadrado 1.5\" x 1.5\" Cal. 14   401.09     NaN   \n14      1  AISI 430 A. I.                Tubo Ø1.5\" Cal. 14  1016.00     NaN   \n22     10  AISI 430 A. I.                  Tubo Ø2\" Cal. 16   396.40     NaN   \n\n    Peso  \n13  0.09  \n24  0.04  \n10  0.03  \n1   3.41  \n4   0.04  \n8   0.07  \n17  0.07  \n2   3.33  \n7   2.24  \n16  0.78  \n14  1.69  \n22  0.72  ",
      "text/html": "<div>\n<style scoped>\n    .dataframe tbody tr th:only-of-type {\n        vertical-align: middle;\n    }\n\n    .dataframe tbody tr th {\n        vertical-align: top;\n    }\n\n    .dataframe thead th {\n        text-align: right;\n    }\n</style>\n<table border=\"1\" class=\"dataframe\">\n  <thead>\n    <tr style=\"text-align: right;\">\n      <th></th>\n      <th>Cant.</th>\n      <th>Material</th>\n      <th>Presentación</th>\n      <th>Largo</th>\n      <th>Ancho</th>\n      <th>Peso</th>\n    </tr>\n  </thead>\n  <tbody>\n    <tr>\n      <th>13</th>\n      <td>2</td>\n      <td>AISI 430 A. I.</td>\n      <td>Lám. Cal. 10</td>\n      <td>131.74</td>\n      <td>25.40</td>\n      <td>0.09</td>\n    </tr>\n    <tr>\n      <th>24</th>\n      <td>20</td>\n      <td>ASTM A36 Acero</td>\n      <td>Lám. Cal. 10</td>\n      <td>47.35</td>\n      <td>47.35</td>\n      <td>0.04</td>\n    </tr>\n    <tr>\n      <th>10</th>\n      <td>2</td>\n      <td>AISI 430 A. I.</td>\n      <td>Lám. Cal. 12</td>\n      <td>38.10</td>\n      <td>38.10</td>\n      <td>0.03</td>\n    </tr>\n    <tr>\n      <th>1</th>\n      <td>1</td>\n      <td>AISI 430 A. I.</td>\n      <td>Lám. Cal. 12</td>\n      <td>1016.00</td>\n      <td>167.94</td>\n      <td>3.41</td>\n    </tr>\n    <tr>\n      <th>4</th>\n      <td>2</td>\n      <td>AISI 430 A. I.</td>\n      <td>Lám. Cal. 12</td>\n      <td>50.80</td>\n      <td>50.80</td>\n      <td>0.04</td>\n    </tr>\n    <tr>\n      <th>8</th>\n      <td>2</td>\n      <td>AISI 430 A. I.</td>\n      <td>Lám. Cal. 12</td>\n      <td>101.60</td>\n      <td>38.10</td>\n      <td>0.07</td>\n    </tr>\n    <tr>\n      <th>17</th>\n      <td>4</td>\n      <td>AISI 430 A. I.</td>\n      <td>Lám. Cal. 12</td>\n      <td>101.60</td>\n      <td>38.10</td>\n      <td>0.07</td>\n    </tr>\n    <tr>\n      <th>2</th>\n      <td>1</td>\n      <td>AISI 430 A. I.</td>\n      <td>Lám. Cal. 12</td>\n      <td>1016.00</td>\n      <td>167.94</td>\n      <td>3.33</td>\n    </tr>\n    <tr>\n      <th>7</th>\n      <td>1</td>\n      <td>AISI 430 A. I.</td>\n      <td>PTR Cuadrado 1.5\" x 1.5\" Cal. 14</td>\n      <td>1103.20</td>\n      <td>NaN</td>\n      <td>2.24</td>\n    </tr>\n    <tr>\n      <th>16</th>\n      <td>2</td>\n      <td>AISI 430 A. I.</td>\n      <td>PTR Cuadrado 1.5\" x 1.5\" Cal. 14</td>\n      <td>401.09</td>\n      <td>NaN</td>\n      <td>0.78</td>\n    </tr>\n    <tr>\n      <th>14</th>\n      <td>1</td>\n      <td>AISI 430 A. I.</td>\n      <td>Tubo Ø1.5\" Cal. 14</td>\n      <td>1016.00</td>\n      <td>NaN</td>\n      <td>1.69</td>\n    </tr>\n    <tr>\n      <th>22</th>\n      <td>10</td>\n      <td>AISI 430 A. I.</td>\n      <td>Tubo Ø2\" Cal. 16</td>\n      <td>396.40</td>\n      <td>NaN</td>\n      <td>0.72</td>\n    </tr>\n  </tbody>\n</table>\n</div>"
     },
     "execution_count": 1809,
     "metadata": {},
     "output_type": "execute_result"
    }
   ],
   "source": [
    "rawMaterial = f_rawMaterial(xlsxSrcDF, [4,5,6,7,8,9], 1, 2, 3)\n",
    "rawMaterial = f_clearNaN(rawMaterial,2)\n",
    "rawMaterial"
   ],
   "metadata": {
    "collapsed": false
   }
  },
  {
   "cell_type": "code",
   "execution_count": 1810,
   "outputs": [
    {
     "data": {
      "text/plain": "array(['AISI 430 A. I.', 'ASTM A36 Acero'], dtype=object)"
     },
     "execution_count": 1810,
     "metadata": {},
     "output_type": "execute_result"
    }
   ],
   "source": [
    "values = rawMaterial.iloc[:,1]\n",
    "values = values.unique()\n",
    "values"
   ],
   "metadata": {
    "collapsed": false
   }
  },
  {
   "cell_type": "code",
   "execution_count": 1811,
   "outputs": [
    {
     "data": {
      "text/plain": "array(['Lám. Cal. 10', 'Lám. Cal. 12', 'PTR Cuadrado 1.5\" x 1.5\" Cal. 14',\n       'Tubo Ø1.5\" Cal. 14', 'Tubo Ø2\" Cal. 16'], dtype=object)"
     },
     "execution_count": 1811,
     "metadata": {},
     "output_type": "execute_result"
    }
   ],
   "source": [
    "values2 = rawMaterial.iloc[:,2]\n",
    "values2 = values2.unique()\n",
    "values2"
   ],
   "metadata": {
    "collapsed": false
   }
  },
  {
   "cell_type": "code",
   "execution_count": 1811,
   "outputs": [],
   "source": [],
   "metadata": {
    "collapsed": false
   }
  },
  {
   "cell_type": "code",
   "execution_count": 1812,
   "outputs": [
    {
     "name": "stdout",
     "output_type": "stream",
     "text": [
      "['AISI 430 A. I.' 'ASTM A36 Acero']\n",
      "['Lám. Cal. 10' 'Lám. Cal. 12' 'PTR Cuadrado 1.5\" x 1.5\" Cal. 14'\n",
      " 'Tubo Ø1.5\" Cal. 14' 'Tubo Ø2\" Cal. 16']\n",
      "[[1. 1. 1. 1. 1.]\n",
      " [1. 0. 0. 0. 0.]]\n",
      "Material        AISI 430 A. I.\n",
      "Presentacion      Lám. Cal. 10\n",
      "Total                 6692.392\n",
      "dtype: object\n",
      "Material        AISI 430 A. I.\n",
      "Presentacion      Lám. Cal. 12\n",
      "Total                372544.34\n",
      "dtype: object\n",
      "Material                          AISI 430 A. I.\n",
      "Presentacion    PTR Cuadrado 1.5\" x 1.5\" Cal. 14\n",
      "Total                                    1905.38\n",
      "dtype: object\n",
      "Material            AISI 430 A. I.\n",
      "Presentacion    Tubo Ø1.5\" Cal. 14\n",
      "Total                       1016.0\n",
      "dtype: object\n",
      "Material          AISI 430 A. I.\n",
      "Presentacion    Tubo Ø2\" Cal. 16\n",
      "Total                     3964.0\n",
      "dtype: object\n",
      "Material        ASTM A36 Acero\n",
      "Presentacion      Lám. Cal. 10\n",
      "Total                 44840.45\n",
      "dtype: object\n"
     ]
    },
    {
     "data": {
      "text/plain": "         Material                      Presentacion      Total\n0  AISI 430 A. I.                      Lám. Cal. 10   6692.392\n1  AISI 430 A. I.                      Lám. Cal. 12  372544.34\n2  AISI 430 A. I.  PTR Cuadrado 1.5\" x 1.5\" Cal. 14    1905.38\n3  AISI 430 A. I.                Tubo Ø1.5\" Cal. 14     1016.0\n4  AISI 430 A. I.                  Tubo Ø2\" Cal. 16     3964.0\n5  ASTM A36 Acero                      Lám. Cal. 10   44840.45",
      "text/html": "<div>\n<style scoped>\n    .dataframe tbody tr th:only-of-type {\n        vertical-align: middle;\n    }\n\n    .dataframe tbody tr th {\n        vertical-align: top;\n    }\n\n    .dataframe thead th {\n        text-align: right;\n    }\n</style>\n<table border=\"1\" class=\"dataframe\">\n  <thead>\n    <tr style=\"text-align: right;\">\n      <th></th>\n      <th>Material</th>\n      <th>Presentacion</th>\n      <th>Total</th>\n    </tr>\n  </thead>\n  <tbody>\n    <tr>\n      <th>0</th>\n      <td>AISI 430 A. I.</td>\n      <td>Lám. Cal. 10</td>\n      <td>6692.392</td>\n    </tr>\n    <tr>\n      <th>1</th>\n      <td>AISI 430 A. I.</td>\n      <td>Lám. Cal. 12</td>\n      <td>372544.34</td>\n    </tr>\n    <tr>\n      <th>2</th>\n      <td>AISI 430 A. I.</td>\n      <td>PTR Cuadrado 1.5\" x 1.5\" Cal. 14</td>\n      <td>1905.38</td>\n    </tr>\n    <tr>\n      <th>3</th>\n      <td>AISI 430 A. I.</td>\n      <td>Tubo Ø1.5\" Cal. 14</td>\n      <td>1016.0</td>\n    </tr>\n    <tr>\n      <th>4</th>\n      <td>AISI 430 A. I.</td>\n      <td>Tubo Ø2\" Cal. 16</td>\n      <td>3964.0</td>\n    </tr>\n    <tr>\n      <th>5</th>\n      <td>ASTM A36 Acero</td>\n      <td>Lám. Cal. 10</td>\n      <td>44840.45</td>\n    </tr>\n  </tbody>\n</table>\n</div>"
     },
     "execution_count": 1812,
     "metadata": {},
     "output_type": "execute_result"
    }
   ],
   "source": [
    "xlsxRawMaterialUnique = f_uniqueRawQuantity(rawMaterial)\n",
    "xlsxRawMaterialUnique"
   ],
   "metadata": {
    "collapsed": false
   }
  },
  {
   "cell_type": "code",
   "execution_count": 1812,
   "outputs": [],
   "source": [],
   "metadata": {
    "collapsed": false
   }
  },
  {
   "cell_type": "code",
   "execution_count": 1813,
   "outputs": [
    {
     "name": "stderr",
     "output_type": "stream",
     "text": [
      "C:\\Users\\erodr\\AppData\\Local\\Temp\\ipykernel_41124\\3829285009.py:15: FutureWarning: save is not part of the public API, usage can give unexpected results and will be removed in a future version\n",
      "  writer.save()\n"
     ]
    }
   ],
   "source": [
    "writer = ExcelWriter(xlsxName)\n",
    "\n",
    "xlsxSrcDF = xlsxSrcDF.reset_index(drop=True)\n",
    "xlsxSrcDF.to_excel(writer,'Source')\n",
    "\n",
    "xlsxManufactureUnique = xlsxManufactureUnique.reset_index(drop=True)\n",
    "xlsxManufactureUnique.to_excel(writer,'Manufacture')\n",
    "\n",
    "xlsxComericalUnique = xlsxComericalUnique.reset_index(drop=True)\n",
    "xlsxComericalUnique.to_excel(writer, 'Comercial')\n",
    "\n",
    "xlsxRawMaterialUnique.to_excel(writer, 'RawMaterials')\n",
    "\n",
    "\n",
    "writer.save()\n",
    "writer.close()"
   ],
   "metadata": {
    "collapsed": false
   }
  },
  {
   "cell_type": "code",
   "execution_count": 1814,
   "outputs": [],
   "source": [
    "doc = Document()\n",
    "page = Page(PageSize.TABLOID_LANDSCAPE.value[0], PageSize.TABLOID_LANDSCAPE.value[1],)\n",
    "\n",
    "doc.add_page(page)\n",
    "pageLayOut = SingleColumnLayoutWithOverflow(page)\n",
    "pageLayOut._vertical_margin_top = page.get_page_info().get_height() * Decimal(0.02)\n",
    "pageLayOut._vertical_margin_bottom = page.get_page_info().get_height() * Decimal(0.02)\n",
    "pageLayOut._horizontal_margin = page.get_page_info().get_width() * Decimal(0.01)\n",
    "\n",
    "rows, columns = xlsxManufacture.shape\n",
    "xlsxManufactureArray = xlsxManufacture.to_numpy()\n"
   ],
   "metadata": {
    "collapsed": false
   }
  },
  {
   "cell_type": "code",
   "execution_count": 1814,
   "outputs": [],
   "source": [],
   "metadata": {
    "collapsed": false
   }
  },
  {
   "cell_type": "code",
   "execution_count": 1815,
   "outputs": [
    {
     "ename": "SyntaxError",
     "evalue": "invalid syntax (1746554950.py, line 1)",
     "output_type": "error",
     "traceback": [
      "\u001B[1;36m  Cell \u001B[1;32mIn[1815], line 1\u001B[1;36m\u001B[0m\n\u001B[1;33m    xlsxManufactureArray.\u001B[0m\n\u001B[1;37m                         ^\u001B[0m\n\u001B[1;31mSyntaxError\u001B[0m\u001B[1;31m:\u001B[0m invalid syntax\n"
     ]
    }
   ],
   "source": [
    "\n",
    "xlsxManufactureArray."
   ],
   "metadata": {
    "collapsed": false
   }
  },
  {
   "cell_type": "code",
   "execution_count": null,
   "outputs": [],
   "source": [
    "from borb.pdf.canvas.color.color import HexColor, X11Color\n",
    "from borb.pdf.canvas.layout.table.fixed_column_width_table import FixedColumnWidthTable as Table\n",
    "#from borb.pdf.canvas.layout.table.flexible_column_width_table import FlexibleColumnWidthTable as Table\n",
    "rows, columns = xlsxManufacture.shape\n",
    "columnsDF = xlsxManufacture.columns.to_numpy()\n",
    "\n",
    "manufactureTable = Table(number_of_rows = rows, number_of_columns = columns)\n",
    "for h in  columnsDF:\n",
    "    manufactureTable.add(\n",
    "        TableCell(\n",
    "            Paragraph(h, font_color=X11Color(\"White\")),\n",
    "            background_color=HexColor(\"016934\")\n",
    "        )\n",
    "    )\n",
    "print(xlsxManufactureArray.shape)\n",
    "data = 0\n",
    "for i in iter(xlsxManufactureArray):\n",
    "    print(i)\n",
    "    for j in range(len(i):\n",
    "        print(j)\n",
    "        print(i[j])\n",
    "        data = i[j]\n",
    "        print(data)\n",
    "        manufactureTable.add(Paragraph(data))\n",
    "\n",
    "\n",
    "\n",
    "\n",
    "\n",
    "pageLayOut.add(manufactureTable)\n",
    "\n",
    "with open(\"output.pdf\", \"wb\") as out_file_handle:\n",
    "    PDF.dumps(out_file_handle, doc)"
   ],
   "metadata": {
    "collapsed": false
   }
  },
  {
   "cell_type": "code",
   "execution_count": null,
   "outputs": [],
   "source": [
    "x\n",
    "pageLayOut.add(\n",
    "    #TableUtil.from_2d_array(xlsxManufactureArray,flexible_column_width=True)\n",
    "    #TableCell.\n",
    "\n",
    "    )\n",
    "# store\n",
    "with open(\"output.pdf\", \"wb\") as out_file_handle:\n",
    "    PDF.dumps(out_file_handle, doc)"
   ],
   "metadata": {
    "collapsed": false
   }
  },
  {
   "cell_type": "code",
   "execution_count": null,
   "outputs": [],
   "source": [
    "xlsxRawMaterial = xlsxSrcDF[xlsxSrcDF.columns[[4,5,6,7,8]]]\n",
    "srie = xlsxRawMaterial.columns.values.tolist()\n",
    "print(srie)\n",
    "\n",
    "xlsxRawMaterial = xlsxRawMaterial.sort_values(by=srie[1])\n",
    "xlsxRawMaterial = xlsxRawMaterial.sort_values(by=srie[2])\n",
    "\n",
    "xlsxRawMaterial = xlsxRawMaterial[xlsxRawMaterial[srie[3]] > 0]\n",
    "xlsxRawMaterial"
   ],
   "metadata": {
    "collapsed": false
   }
  },
  {
   "cell_type": "code",
   "execution_count": null,
   "outputs": [],
   "source": [],
   "metadata": {
    "collapsed": false
   }
  },
  {
   "cell_type": "code",
   "execution_count": null,
   "outputs": [],
   "source": [
    "                if found[i_iteration] == 0:\n",
    "                    found[i_iteration] = 1\n",
    "                    quantity[i_iteration] += int(_dataFrame.iat[i,3])\n",
    "                else:\n",
    "                    quantity[i_iteration] += int(_dataFrame.iat[i,3])\n",
    "                    rowToDelete[i] = _dataFrame.index.values[i]\n",
    "                found[i_iteration] = 1\n",
    "                print(found)\n",
    "            i_iteration += 1\n",
    "\n",
    "    for i in rowToDelete:\n",
    "        if i != 0:\n",
    "            uniqueDataFrame = uniqueDataFrame.drop(i)\n",
    "            #print(j)\n",
    "\n",
    "    print('Result')\n",
    "    print(found)\n",
    "    print(quantity)\n",
    "    print(rowToDelete)\n",
    "\n",
    "    i_iteration = 0\n",
    "    for i in quantity:\n",
    "        print(i)\n",
    "        print(i_iteration)\n",
    "        uniqueDataFrame.iat[i_iteration,3] = i\n",
    "        i_iteration += 1"
   ],
   "metadata": {
    "collapsed": false
   }
  }
 ],
 "metadata": {
  "kernelspec": {
   "display_name": "Python 3",
   "language": "python",
   "name": "python3"
  },
  "language_info": {
   "codemirror_mode": {
    "name": "ipython",
    "version": 2
   },
   "file_extension": ".py",
   "mimetype": "text/x-python",
   "name": "python",
   "nbconvert_exporter": "python",
   "pygments_lexer": "ipython2",
   "version": "2.7.6"
  }
 },
 "nbformat": 4,
 "nbformat_minor": 0
}
