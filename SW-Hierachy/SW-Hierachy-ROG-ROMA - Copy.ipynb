{
 "cells": [
  {
   "cell_type": "markdown",
   "source": [
    "\n",
    "# Title: [SW-Hierarchy]: [BOM data extraction]\n",
    "### Author: [Erick Rodriguez Martinez | +52 452 159 07 12 | +1 653 325 81 15 | erodriguezm91@outlook.com]\n",
    "### Date: [04/14/2023 - Last Update]\n",
    "### Template: [v1.0 | 04142023 - First Release]\n",
    "### Description: [SW-Hierarchy is a python module for extracting SW-BOM data and sorting it to generate custom BOMs as follows:]\n",
    "* #### CPL - Comercial Parts List\n",
    "* #### MPL - Manufacturing Parts List\n",
    "* #### RAW - RAW Bill of Materials\n",
    "---"
   ],
   "metadata": {
    "collapsed": false
   }
  },
  {
   "cell_type": "markdown",
   "source": [
    "\n",
    "# [PIP] Python Installation Packages"
   ],
   "metadata": {
    "collapsed": false
   }
  },
  {
   "cell_type": "code",
   "execution_count": 18,
   "outputs": [],
   "source": [
    "# xlrd is a library for reading data and formatting information from Excel files in the historical \".xls\" format.\n",
    "#@TODO Remove \"#\" to install \"xlrd\"\n",
    "#!pip install xlrd\n",
    "#!pip install openpyxl\n",
    "\n",
    "# An open-source library that provides high-performance data manipulation in Python\n",
    "#@TODO Remove \"#\" to install \"pandas\"\n",
    "#!pip install pandas\n",
    "\n",
    "# Python library dedicated to reading, manipulating and generating PDF documents\n",
    "#@TODO Remove \"#\" to install \"borb\"\n",
    "#!pip install borb"
   ],
   "metadata": {
    "collapsed": false
   }
  },
  {
   "cell_type": "markdown",
   "source": [
    "\n",
    "# [ISL] Import Standard Libraries"
   ],
   "metadata": {
    "collapsed": false
   }
  },
  {
   "cell_type": "code",
   "execution_count": 19,
   "outputs": [],
   "source": [
    "#TODO [OPTIONAL Remove if not used]"
   ],
   "metadata": {
    "collapsed": false
   }
  },
  {
   "cell_type": "markdown",
   "source": [
    "\n",
    "# [IT-PL] Import Third-Party Libraries"
   ],
   "metadata": {
    "collapsed": false
   }
  },
  {
   "cell_type": "code",
   "execution_count": 20,
   "outputs": [],
   "source": [
    "import pandas as pd\n",
    "from pandas import ExcelWriter\n",
    "\n",
    "import numpy as np"
   ],
   "metadata": {
    "collapsed": false
   }
  },
  {
   "cell_type": "markdown",
   "source": [
    "\n",
    "# [T-LI] TEST Library Imports"
   ],
   "metadata": {
    "collapsed": false
   }
  },
  {
   "cell_type": "code",
   "execution_count": 21,
   "outputs": [],
   "source": [
    "#TODO Remove if not used or before to release version\n",
    "from decimal import Decimal\n",
    "\n",
    "from borb.pdf import MultiColumnLayout\n",
    "from borb.pdf import SingleColumnLayoutWithOverflow\n",
    "from borb.pdf import PageLayout\n",
    "from borb.pdf import TableUtil\n",
    "from borb.pdf import TableCell\n",
    "\n",
    "from borb.pdf import FlexibleColumnWidthTable\n",
    "from borb.pdf import Paragraph\n",
    "from borb.pdf import Document\n",
    "from borb.pdf import Page\n",
    "from borb.pdf import PDF\n",
    "from borb.pdf.page.page_size import PageSize"
   ],
   "metadata": {
    "collapsed": false
   }
  },
  {
   "cell_type": "markdown",
   "source": [
    "\n",
    "# [IIM] Import internal modules"
   ],
   "metadata": {
    "collapsed": false
   }
  },
  {
   "cell_type": "code",
   "execution_count": 22,
   "outputs": [],
   "source": [
    "#TODO Remove if not used or before to release version"
   ],
   "metadata": {
    "collapsed": false
   }
  },
  {
   "cell_type": "markdown",
   "source": [
    "\n",
    "# [DGC] Define Global Constants"
   ],
   "metadata": {
    "collapsed": false
   }
  },
  {
   "cell_type": "code",
   "execution_count": 22,
   "outputs": [],
   "source": [],
   "metadata": {
    "collapsed": false
   }
  },
  {
   "cell_type": "markdown",
   "source": [
    "\n",
    "# [DGV] Define Global Variables"
   ],
   "metadata": {
    "collapsed": false
   }
  },
  {
   "cell_type": "code",
   "execution_count": 23,
   "outputs": [],
   "source": [
    "#TODO [OPTIONAL Remove if not used]\n"
   ],
   "metadata": {
    "collapsed": false
   }
  },
  {
   "cell_type": "markdown",
   "source": [
    "\n",
    "# [FNC] Functions"
   ],
   "metadata": {
    "collapsed": false
   }
  },
  {
   "cell_type": "code",
   "execution_count": 24,
   "outputs": [],
   "source": [
    "def f_clean_nan_values(dataFrame, column, string):\n",
    "    \"\"\"\n",
    "    This function finds all NaNs in the #Column of a DataFrame and replaces them with \"string\" value.\n",
    "\n",
    "    Args:\n",
    "        dataFrame (): Panda *.xlsx read file.\n",
    "        column (int): Number of the column where \"type\" is found.\n",
    "        string (str): NaN values founded in \"Type\" cells would be replaced by str1.\n",
    "\n",
    "    Returns:\n",
    "        dataFrame:\n",
    "    \"\"\"\n",
    "\n",
    "    _dataFrame = dataFrame\n",
    "    _dataFrame.iloc[:, column] = _dataFrame.iloc[:, column].replace(np.nan, string)\n",
    "\n",
    "    return _dataFrame\n",
    "\n",
    "\n",
    "def f_hierarchy_quantity_update(dataFrame, hierarchyCol, quantityCol):\n",
    "    \"\"\"\n",
    "    This function uses the hierarchy to calculate the real quantity value to update the DataFrame.\n",
    "\n",
    "    Args:\n",
    "        dataFrame (df): Panda *.xlsx read file.\n",
    "        hierarchyCol (int): Number of the column where \"hierarchy\" is found.\n",
    "        quantityCol (int): Number of the column where \"quantity\" is found.\n",
    "\n",
    "    Returns:\n",
    "        dataFrame:\n",
    "    \"\"\"\n",
    "    _dataFrame = dataFrame\n",
    "\n",
    "    row, column = _dataFrame.shape\n",
    "    h = [0] * row\n",
    "    c = [0] * row\n",
    "\n",
    "    for i in range(len(_dataFrame.iloc[:, hierarchyCol])):\n",
    "        # print(len(_dataFrame.iloc[:,hierarchyCol])) # Displays the total number of rows inside _dataFrame\n",
    "\n",
    "        hierarchy = 1\n",
    "        for j in str(_dataFrame.iat[i, hierarchyCol]):\n",
    "            # print(j) #TODO Remove \"#\" to show the 'j' character\n",
    "            if j == '.':\n",
    "                hierarchy += 1\n",
    "        # print(hierarchy) #TODO Remove \"#\" to debug \"Hierarchy\" value\n",
    "\n",
    "        quantityValue = _dataFrame.iat[i,quantityCol]\n",
    "        sum = 0\n",
    "        if hierarchy == 1:\n",
    "            h[1] = quantityValue\n",
    "            c[i] = h[1]\n",
    "        else:\n",
    "            h[hierarchy] = quantityValue\n",
    "            c[i] = h[hierarchy]\n",
    "            for j in range(hierarchy):\n",
    "                if j == 0:\n",
    "                    continue\n",
    "                else:\n",
    "                    c[i] = c[i] * h[j]\n",
    "    # print(c) #@TODO Remove \"#\" to debug Quantity -[c]- Output\n",
    "\n",
    "    for i in range(len(c)):\n",
    "        _dataFrame.iloc[i,quantityCol] = c[i]\n",
    "\n",
    "    return _dataFrame\n",
    "\n",
    "\n",
    "def f_split_data_frame(dataFrame, colN, str1):\n",
    "    \"\"\"\n",
    "    This function finds all blanks and removes them from the string..\n",
    "\n",
    "    Args:\n",
    "        dataFrame (): Panda *.xlsx read file.\n",
    "        column (int): Number of the column where to look for blanks.\n",
    "\n",
    "    Returns:\n",
    "        dataFrame: A DataFrame with no blank spaces in the selected column\n",
    "    \"\"\"\n",
    "    _dataFrame = dataFrame\n",
    "    colSelect = _dataFrame[_dataFrame.columns[colN]]\n",
    "    _dataFrame = _dataFrame[colSelect == str1]\n",
    "    return  _dataFrame\n",
    "\n",
    "\n",
    "def f_clean_blank_spaces(dataFrame, column):\n",
    "    \"\"\"\n",
    "    This function finds all blanks and removes them from the string..\n",
    "\n",
    "    Args:\n",
    "        dataFrame (): Panda *.xlsx read file.\n",
    "        column (int): Number of the column where to look for blanks.\n",
    "\n",
    "    Returns:\n",
    "        dataFrame: A DataFrame with no blank spaces in the selected column\n",
    "    \"\"\"\n",
    "    _dataFrame = dataFrame\n",
    "\n",
    "    for i in range(len(_dataFrame.iloc[:, column])):\n",
    "        _dataFrame.iloc[i,column] = str(_dataFrame.iat[i,column]).replace(' ', '')\n",
    "\n",
    "    return _dataFrame\n",
    "\n",
    "\n",
    "def f_unique_values(dataFrame):\n",
    "    \"\"\"\n",
    "    This function finds all UniqueValues of the selected column in a DataFrame.\n",
    "\n",
    "    Args:\n",
    "        dataFrame (): Panda *.xlsx read file.\n",
    "        column (int): Number of the column where to look for blanks.\n",
    "\n",
    "    Returns:\n",
    "        dataFrame: A DataFrame with Unique Values\n",
    "    \"\"\"\n",
    "    _dataFrame = dataFrame\n",
    "    row, col = _dataFrame.shape\n",
    "\n",
    "    uniqueValues = _dataFrame.iloc[:, 1] # Select All rows (:) from column one (1) of the DataFrame\n",
    "    uniqueValues = uniqueValues.unique() # UniqueValues founded in the selected column\n",
    "\n",
    "\n",
    "    # c = [0] * row #TODO Debug to delete this line, could be not used\n",
    "    foundValuesArray = [0] * len(uniqueValues) # Variable to store the UniqueValues founded\n",
    "    quantityArray = [0] * len(uniqueValues) # Variable to store the accumulative quantity of the UniqueValues\n",
    "    iteration = 0 #TODO Debug to delete this line, could be not used\n",
    "    indexToDeleteArray = [0] * row\n",
    "    uniqueDataFrame = _dataFrame\n",
    "\n",
    "    # For loop to explore all rows of the DataFrame\n",
    "    for i in range(row):\n",
    "        iteration = 0\n",
    "        # print(i) #TODO Remove \"#\" to debug Iteration\n",
    "        for j in uniqueValues: # For loop to search for occurrences of UniqueValues vs the rows values of the DataFrame\n",
    "            if j == str(_dataFrame.iat[i,1]):\n",
    "                if foundValuesArray[iteration] == 0:\n",
    "                    # foundValueArray[iteration] = 1 #TODO Debug to delete this line, could be not used\n",
    "                    quantityArray[iteration] += int(_dataFrame.iat[i,3])\n",
    "                else:\n",
    "                    quantityArray[iteration] += int(_dataFrame.iat[i,3])\n",
    "                    indexToDeleteArray[i] = _dataFrame.index.values[i] # Adds the current index of the occurrence to the array containing the indexes to be deleted\n",
    "                foundValuesArray[iteration] = 1 #TODO Debug to delete this line, could be not used\n",
    "                # print(foundValuesArray) #TODO Remove \"#\" to debug foundValuesArray\n",
    "            iteration += 1\n",
    "\n",
    "    # For loop to delete duplicate values using the indexes stored in the IndexToDeleteArray\n",
    "    for i in indexToDeleteArray:\n",
    "        if i != 0:\n",
    "            uniqueDataFrame = uniqueDataFrame.drop(i)\n",
    "\n",
    "    # For loop to update the Quantity value of the UniqueValues\n",
    "    iteration = 0\n",
    "    for i in quantityArray:\n",
    "        uniqueDataFrame.iat[iteration,3] = i\n",
    "        iteration += 1\n",
    "\n",
    "    print(uniqueValues) #TODO Remove \"#\" to debug Unique Values\n",
    "    #print('Accumulative quantity array')\n",
    "    #print(quantityArray)\n",
    "    #print('Indexes to be deleted array')\n",
    "    #print(indexToDeleteArray)\n",
    "\n",
    "    return uniqueDataFrame\n",
    "\n",
    "\n",
    "def f_clearNaN(dataFrame, col1):\n",
    "    _dataFrame = dataFrame\n",
    "\n",
    "    for i in range(len(_dataFrame.iloc[:, col1])):\n",
    "        _dataFrame.iloc[:, col1] = _dataFrame.iloc[:, col1].replace(np.nan, 'N/A')\n",
    "    return  _dataFrame\n",
    "\n",
    "\n",
    "def f_rawMaterial(dataFrame, colSelect, sort1, sort2, colEvaluate):\n",
    "    \"\"\"\n",
    "    This function .\n",
    "\n",
    "    Args:\n",
    "        dataFrame (): Panda *.xlsx read file.\n",
    "        colSelect (int): Number of the column where to look for blanks.\n",
    "        sort1 (type):\n",
    "        sort2 (type):\n",
    "        colEvaluate (type):\n",
    "\n",
    "    Returns:\n",
    "        dataFrame: A DataFrame with Unique Values\n",
    "    \"\"\"\n",
    "    _dataFrame = dataFrame\n",
    "    _dataFrame = _dataFrame[_dataFrame.columns[colSelect]]\n",
    "    columnValues = _dataFrame.columns.values.tolist()\n",
    "    #print(columnValues)\n",
    "\n",
    "    _dataFrame = _dataFrame.sort_values(by=columnValues[sort1])\n",
    "    _dataFrame = _dataFrame.sort_values(by=columnValues[sort2])\n",
    "\n",
    "    _dataFrame = _dataFrame[_dataFrame[columnValues[colEvaluate]] > 0]\n",
    "    return _dataFrame"
   ],
   "metadata": {
    "collapsed": false
   }
  },
  {
   "cell_type": "markdown",
   "source": [
    "\n",
    "# [T-FNC] TEST Functions"
   ],
   "metadata": {
    "collapsed": false
   }
  },
  {
   "cell_type": "code",
   "execution_count": 26,
   "outputs": [],
   "source": [
    "def f_uniqueRawQuantity(dataFrame):\n",
    "    _dataFrame = dataFrame\n",
    "    row, col = _dataFrame.shape\n",
    "\n",
    "    testValues1 = _dataFrame.iloc[:, 1]\n",
    "    testValues1 = testValues1.unique()\n",
    "    print(testValues1)\n",
    "\n",
    "    testValues2 = _dataFrame.iloc[:, 2]\n",
    "    testValues2 = testValues2.unique()\n",
    "    print(testValues2)\n",
    "\n",
    "    c = [0] * row\n",
    "    found = np.zeros((len(testValues1), len(testValues2)))\n",
    "\n",
    "    quantity = np.zeros((len(testValues1), len(testValues2)))\n",
    "\n",
    "    rowToDelete = [0] * row\n",
    "\n",
    "    uniqueDataFrame = _dataFrame\n",
    "    selectCols = _dataFrame.columns\n",
    "\n",
    "    for i in range(row):\n",
    "        i_iteration = 0\n",
    "        j_iteration = 0\n",
    "        k_iteration = 0\n",
    "        #print(i)\n",
    "        for j in testValues1:\n",
    "            if j == str(_dataFrame.iat[i,1]):\n",
    "                for k in testValues2:\n",
    "                    if k == str(_dataFrame.iat[i,2]):\n",
    "                        #print(str(j_iteration), str(k_iteration))\n",
    "                        if _dataFrame.iat[i,4] > 0:\n",
    "                            quantity[j_iteration, k_iteration] += int(_dataFrame.iat[i,0]) * _dataFrame.iat[i,3] * _dataFrame.iat[i,4]\n",
    "                            #print(quantity[j_iteration, k_iteration])\n",
    "                        else:\n",
    "                            quantity[j_iteration, k_iteration] += int(_dataFrame.iat[i,0]) * _dataFrame.iat[i,3]\n",
    "                            #print(quantity[j_iteration, k_iteration])\n",
    "                        found[j_iteration,k_iteration] = 1\n",
    "                    k_iteration += 1\n",
    "            j_iteration += 1\n",
    "\n",
    "    print(found)\n",
    "    #print(quantity)\n",
    "    df = pd.DataFrame(columns=['Material', 'Presentacion', 'Total'])\n",
    "    row, col = found.shape\n",
    "    for i in range(row):\n",
    "        for j in range(col):\n",
    "            if found[i,j] != 0:\n",
    "                i_data = testValues1[i]\n",
    "                j_data = testValues2[j]\n",
    "                toApend = pd.Series([i_data, j_data, quantity[i,j]], index=['Material', 'Presentacion', 'Total'])\n",
    "                print(toApend)\n",
    "\n",
    "                #df.concat(other=[i_data, j_data], ignore_index=True)\n",
    "                #pd.concat(df, i_data, j_data)\n",
    "                df = pd.concat([df, toApend.to_frame().T], ignore_index=True)\n",
    "    return df"
   ],
   "metadata": {
    "collapsed": false
   }
  },
  {
   "cell_type": "markdown",
   "source": [
    "\n",
    "# [C] Classes\n",
    "\n",
    "class MyClass:\n",
    "    \"\"\"\n",
    "    Class description.\n",
    "    \"\"\"\n",
    "    def __init__(self, arg1, arg2):\n",
    "        \"\"\"\n",
    "        Class constructor.\n",
    "\n",
    "        Args:\n",
    "            arg1 (type): Description of arg1.\n",
    "            arg2 (type): Description of arg2.\n",
    "        \"\"\"\n",
    "        self.arg1 = arg1\n",
    "        self.arg2 = arg2\n",
    "\n",
    "    def method1(self):\n",
    "        \"\"\"\n",
    "        Method description.\n",
    "        \"\"\"\n",
    "        # Method logic\n",
    "\n",
    "    def method2(self):\n",
    "        \"\"\"\n",
    "        Method description.\n",
    "        \"\"\"\n",
    "        # Method logic\n"
   ],
   "metadata": {
    "collapsed": false
   }
  },
  {
   "cell_type": "code",
   "execution_count": 26,
   "outputs": [],
   "source": [],
   "metadata": {
    "collapsed": false
   }
  },
  {
   "cell_type": "markdown",
   "source": [
    "\n",
    "# [TC] TEST Classes"
   ],
   "metadata": {
    "collapsed": false
   }
  },
  {
   "cell_type": "code",
   "execution_count": 26,
   "outputs": [],
   "source": [],
   "metadata": {
    "collapsed": false
   }
  },
  {
   "cell_type": "markdown",
   "source": [
    "# [PF] Program Flow"
   ],
   "metadata": {
    "collapsed": false
   }
  },
  {
   "cell_type": "code",
   "execution_count": 27,
   "outputs": [
    {
     "name": "stdout",
     "output_type": "stream",
     "text": [
      "['AA02P031' 'AA02S021' 'AA02P035' 'AA02P036' 'AA02P038' 'AA02S013'\n",
      " 'AA02S002' 'AA02P003' 'AA02P002' 'AA02S001' 'AA02P001' 'AA02S003'\n",
      " 'AA02P004' 'AA02S012' 'AA02S004' 'AA02P005' 'AA02P006' 'AA02P007'\n",
      " 'AA02S005' 'AA02P008' 'AA02S006' 'AA02P009' 'AA02P010' 'AA02S007'\n",
      " 'AA02P011' 'AA02S008' 'AA02P012' 'AA02P013' 'AA02P014' 'AA02S009'\n",
      " 'AA02P015' 'AA02P016' 'AA02P017' 'AA02S010' 'AA02P018' 'AA02S011'\n",
      " 'AA02P019' 'AA02S016' 'AA02P022' 'AA02P024' 'AA02P023' 'AA02P025'\n",
      " 'AA02P026' 'AA02P027' 'AA02S015' 'AA02S014' 'AA02P020' 'AA02P021'\n",
      " 'AA02S019' 'AA02P030' 'AA02S018' 'AA02S017' 'AA02P028' 'AA02P029'\n",
      " 'AA02S020' 'AA02P032' 'AA02P033' 'AA02S022' 'AA02P039' 'AA02P040']\n",
      "['RLW0.25-AC-G' 'HNUTG20.2500-20-D-N-AC-G'\n",
      " 'RHSNBOLT0.25-20x0.75x0.75-N-AI-G' 'REM0.125-0.5-AI' 'HC63-8.625'\n",
      " 'HNUTG20.5000-13-D-N-AC-G' 'HBOLTG20.5000-13x5x5-N-AC-G'\n",
      " 'RHSNBOLT0.375-16x1x1-N-AC-G' 'RLW0.375-AC-G' 'HNUTG20.3750-16-D-N-AC-G'\n",
      " 'AA02P034' 'RNYMS1-1420YA-40' 'UCP205-16' 'RFW0.5-AC-G'\n",
      " 'HBOLTG20.5000-13x6x1.25-C-AC-G' 'RLW0.5-AC-G'\n",
      " 'HBOLTG20.3750-16x1x1-N-AC-G' 'SSCUPSKT0.3125-18x0.5-HX-N-AC'\n",
      " 'RodamientoKLNJ1' 'Truarc5100-100-S1' 'BAN14.5-4291.27' 'BAN14.5-5205.79'\n",
      " 'BAN14.5-6120.31' 'BAN14.5-7034.84' 'Aporte' 'UX1S14.5'\n",
      " 'HBOLTG20.5000-13x1.25x1.25-N-AC-G' 'RFW0.375-AC-G'\n",
      " 'HBOLTG20.3750-16x4.5x4.5-N-AC-G' 'RHSNBOLT0.25-20x0.75x0.75-N-AC-G']\n"
     ]
    }
   ],
   "source": [
    "#TODO *.xlsx Source File Path\n",
    "xlsxPath = 'AA02A001.xlsx'\n",
    "xlsxSrcToDF = pd.read_excel(xlsxPath)\n",
    "\n",
    "#TODO Set The Output File Name\n",
    "xlsxName = xlsxPath.replace('.xlsx', '_M.xlsx')\n",
    "\n",
    "# Clean NaN Values of The \"Type\" Column\n",
    "nanCleanDF = f_clean_nan_values(xlsxSrcToDF, 0, 'C')\n",
    "\n",
    "# Quantity Update by Hierarchy & Delete Hierarchy Column\n",
    "quantityUpdatedDF = f_hierarchy_quantity_update(nanCleanDF, 1, 4)\n",
    "quantityUpdatedDF = quantityUpdatedDF.drop(quantityUpdatedDF.columns[1], axis=1)\n",
    "\n",
    "# Split DataFrame in Manufacturing BOM & Clean Blank Spaces\n",
    "manufacturingDF = f_split_data_frame(quantityUpdatedDF, 0, 'F')\n",
    "manufacturingDF = f_clean_blank_spaces(manufacturingDF, 1)\n",
    "manufacturingToXLSX = f_unique_values(manufacturingDF)\n",
    "\n",
    "# Split DataFrame in Comercial BOM & Clean Blank Spaces\n",
    "comercialDF = f_split_data_frame(quantityUpdatedDF, 0, 'C')\n",
    "comercialDF = f_clean_blank_spaces(comercialDF, 1)\n",
    "comercialToXLSX = f_unique_values(comercialDF)"
   ],
   "metadata": {
    "collapsed": false
   }
  },
  {
   "cell_type": "markdown",
   "source": [
    "# [TPF] Test Program Flow\n"
   ],
   "metadata": {
    "collapsed": false
   }
  },
  {
   "cell_type": "code",
   "execution_count": 28,
   "outputs": [
    {
     "data": {
      "text/plain": "     Cant.         Material                      Presentación     Largo  \\\n61       2   ASTM A36 Acero            Cuadrado 0.25\" x 0.25\"     31.75   \n63       3   ASTM A36 Acero            Cuadrado 0.25\" x 0.25\"     76.20   \n64       1   ASTM A36 Acero            Cuadrado 0.25\" x 0.25\"    138.68   \n62       1   AISI 430 A. I.                      Lám. Cal. 10    318.48   \n23       1   AISI 430 A. I.                      Lám. Cal. 10    247.61   \n18       4   AISI 430 A. I.                      Lám. Cal. 10     76.20   \n40       1   AISI 430 A. I.                      Lám. Cal. 10    247.61   \n65       2   AISI 430 A. I.                      Lám. Cal. 10     31.75   \n43       6   AISI 430 A. I.                      Lám. Cal. 12    101.60   \n35       1   AISI 430 A. I.                      Lám. Cal. 12   1371.60   \n30       1   AISI 430 A. I.                      Lám. Cal. 12   2159.00   \n38       1   AISI 430 A. I.                      Lám. Cal. 12   1371.60   \n44       9   AISI 430 A. I.                      Lám. Cal. 12    101.60   \n47       2   AISI 430 A. I.                      Lám. Cal. 12    101.60   \n52       1   AISI 430 A. I.                      Lám. Cal. 12    101.60   \n37       1   AISI 430 A. I.                      Lám. Cal. 12   2159.00   \n31       1   AISI 430 A. I.                      Lám. Cal. 12    914.40   \n26       1   AISI 430 A. I.                      Lám. Cal. 12   2616.20   \n48       2   AISI 430 A. I.                      Lám. Cal. 12    101.60   \n22       1   AISI 430 A. I.                      Lám. Cal. 12   2159.00   \n15       4   AISI 430 A. I.                      Lám. Cal. 12     50.80   \n34       1   AISI 430 A. I.                      Lám. Cal. 12   2159.00   \n51       2   AISI 430 A. I.                      Lám. Cal. 12    101.60   \n13       4   AISI 430 A. I.                      Lám. Cal. 12    153.82   \n3        2   AISI 430 A. I.                      Lám. Cal. 14    513.79   \n109      2   AISI 430 A. I.                      Lám. Cal. 14    491.09   \n110      2   AISI 430 A. I.                      Lám. Cal. 14    432.59   \n2        2   AISI 430 A. I.                      Lám. Cal. 14    491.09   \n46       1   AISI 430 A. I.  PTR Cuadrado 1.5\" x 1.5\" Cal. 14   1135.00   \n42       3   AISI 430 A. I.  PTR Cuadrado 1.5\" x 1.5\" Cal. 14   1516.00   \n50       1   AISI 430 A. I.  PTR Cuadrado 1.5\" x 1.5\" Cal. 14    754.00   \n12       1   AISI 430 A. I.      PTR Cuadrado 2\" x 2\" Cal. 14  20430.20   \n29       2   AISI 430 A. I.                  Placa Esp. 3/16\"     80.39   \n27       2   AISI 430 A. I.                  Placa Esp. 3/16\"     80.39   \n39       1   AISI 430 A. I.                  Placa Esp. 3/16\"     80.39   \n90       2   AISI 430 A. I.                  Placa Esp. 3/16\"    133.35   \n91       2   AISI 430 A. I.                  Placa Esp. 3/16\"     31.75   \n24       1   AISI 430 A. I.                  Placa Esp. 3/16\"     80.39   \n33       2   AISI 430 A. I.                  Placa Esp. 3/16\"     80.39   \n0        1   AISI 430 A. I.                  Redondo de 0.75\"      8.00   \n60       1  AISI 1018 Acero                     Redondo de 1\"   1799.00   \n81       4  AISI 1018 Acero                     Redondo de 1\"    494.00   \n69       8   ASTM A36 Acero                   Redondo de 2.5\"     31.75   \n85       8  AISI 1018 Acero                   Redondo de 2.5\"     31.75   \n96       3            A. C.                               N/A    377.83   \n86       4              PVC                               N/A   1453.41   \n70       4              PVC                               N/A   1453.41   \n\n      Ancho   Peso  \n61      NaN   0.01  \n63      NaN   0.02  \n64      NaN   0.04  \n62   158.00   0.63  \n23    82.54   0.42  \n18    76.20   0.12  \n40    82.54   0.42  \n65    31.75   0.02  \n43    38.10   0.07  \n35   169.69   4.56  \n30   169.69   7.25  \n38   238.28   6.61  \n44    53.98   0.08  \n47    38.10   0.07  \n52    53.98   0.08  \n37   238.28  10.39  \n31   169.69   3.02  \n26   169.69   8.72  \n48    53.98   0.08  \n22   238.28  10.34  \n15    50.80   0.05  \n34   169.69   7.25  \n51    38.10   0.07  \n13   127.00   0.35  \n3    155.61   0.68  \n109  227.72   0.90  \n110  146.05   0.55  \n2    307.72   1.11  \n46      NaN   2.23  \n42      NaN   2.98  \n50      NaN   1.48  \n12      NaN  54.06  \n29    28.58   0.08  \n27    28.58   0.08  \n39    28.58   0.08  \n90    31.75   0.15  \n91    25.40   0.03  \n24    28.58   0.08  \n33    28.58   0.08  \n0       NaN   0.01  \n60      NaN   7.07  \n81      NaN   1.88  \n69      NaN   0.29  \n85      NaN   0.26  \n96      NaN   0.01  \n86    66.26   0.59  \n70    66.26   0.59  ",
      "text/html": "<div>\n<style scoped>\n    .dataframe tbody tr th:only-of-type {\n        vertical-align: middle;\n    }\n\n    .dataframe tbody tr th {\n        vertical-align: top;\n    }\n\n    .dataframe thead th {\n        text-align: right;\n    }\n</style>\n<table border=\"1\" class=\"dataframe\">\n  <thead>\n    <tr style=\"text-align: right;\">\n      <th></th>\n      <th>Cant.</th>\n      <th>Material</th>\n      <th>Presentación</th>\n      <th>Largo</th>\n      <th>Ancho</th>\n      <th>Peso</th>\n    </tr>\n  </thead>\n  <tbody>\n    <tr>\n      <th>61</th>\n      <td>2</td>\n      <td>ASTM A36 Acero</td>\n      <td>Cuadrado 0.25\" x 0.25\"</td>\n      <td>31.75</td>\n      <td>NaN</td>\n      <td>0.01</td>\n    </tr>\n    <tr>\n      <th>63</th>\n      <td>3</td>\n      <td>ASTM A36 Acero</td>\n      <td>Cuadrado 0.25\" x 0.25\"</td>\n      <td>76.20</td>\n      <td>NaN</td>\n      <td>0.02</td>\n    </tr>\n    <tr>\n      <th>64</th>\n      <td>1</td>\n      <td>ASTM A36 Acero</td>\n      <td>Cuadrado 0.25\" x 0.25\"</td>\n      <td>138.68</td>\n      <td>NaN</td>\n      <td>0.04</td>\n    </tr>\n    <tr>\n      <th>62</th>\n      <td>1</td>\n      <td>AISI 430 A. I.</td>\n      <td>Lám. Cal. 10</td>\n      <td>318.48</td>\n      <td>158.00</td>\n      <td>0.63</td>\n    </tr>\n    <tr>\n      <th>23</th>\n      <td>1</td>\n      <td>AISI 430 A. I.</td>\n      <td>Lám. Cal. 10</td>\n      <td>247.61</td>\n      <td>82.54</td>\n      <td>0.42</td>\n    </tr>\n    <tr>\n      <th>18</th>\n      <td>4</td>\n      <td>AISI 430 A. I.</td>\n      <td>Lám. Cal. 10</td>\n      <td>76.20</td>\n      <td>76.20</td>\n      <td>0.12</td>\n    </tr>\n    <tr>\n      <th>40</th>\n      <td>1</td>\n      <td>AISI 430 A. I.</td>\n      <td>Lám. Cal. 10</td>\n      <td>247.61</td>\n      <td>82.54</td>\n      <td>0.42</td>\n    </tr>\n    <tr>\n      <th>65</th>\n      <td>2</td>\n      <td>AISI 430 A. I.</td>\n      <td>Lám. Cal. 10</td>\n      <td>31.75</td>\n      <td>31.75</td>\n      <td>0.02</td>\n    </tr>\n    <tr>\n      <th>43</th>\n      <td>6</td>\n      <td>AISI 430 A. I.</td>\n      <td>Lám. Cal. 12</td>\n      <td>101.60</td>\n      <td>38.10</td>\n      <td>0.07</td>\n    </tr>\n    <tr>\n      <th>35</th>\n      <td>1</td>\n      <td>AISI 430 A. I.</td>\n      <td>Lám. Cal. 12</td>\n      <td>1371.60</td>\n      <td>169.69</td>\n      <td>4.56</td>\n    </tr>\n    <tr>\n      <th>30</th>\n      <td>1</td>\n      <td>AISI 430 A. I.</td>\n      <td>Lám. Cal. 12</td>\n      <td>2159.00</td>\n      <td>169.69</td>\n      <td>7.25</td>\n    </tr>\n    <tr>\n      <th>38</th>\n      <td>1</td>\n      <td>AISI 430 A. I.</td>\n      <td>Lám. Cal. 12</td>\n      <td>1371.60</td>\n      <td>238.28</td>\n      <td>6.61</td>\n    </tr>\n    <tr>\n      <th>44</th>\n      <td>9</td>\n      <td>AISI 430 A. I.</td>\n      <td>Lám. Cal. 12</td>\n      <td>101.60</td>\n      <td>53.98</td>\n      <td>0.08</td>\n    </tr>\n    <tr>\n      <th>47</th>\n      <td>2</td>\n      <td>AISI 430 A. I.</td>\n      <td>Lám. Cal. 12</td>\n      <td>101.60</td>\n      <td>38.10</td>\n      <td>0.07</td>\n    </tr>\n    <tr>\n      <th>52</th>\n      <td>1</td>\n      <td>AISI 430 A. I.</td>\n      <td>Lám. Cal. 12</td>\n      <td>101.60</td>\n      <td>53.98</td>\n      <td>0.08</td>\n    </tr>\n    <tr>\n      <th>37</th>\n      <td>1</td>\n      <td>AISI 430 A. I.</td>\n      <td>Lám. Cal. 12</td>\n      <td>2159.00</td>\n      <td>238.28</td>\n      <td>10.39</td>\n    </tr>\n    <tr>\n      <th>31</th>\n      <td>1</td>\n      <td>AISI 430 A. I.</td>\n      <td>Lám. Cal. 12</td>\n      <td>914.40</td>\n      <td>169.69</td>\n      <td>3.02</td>\n    </tr>\n    <tr>\n      <th>26</th>\n      <td>1</td>\n      <td>AISI 430 A. I.</td>\n      <td>Lám. Cal. 12</td>\n      <td>2616.20</td>\n      <td>169.69</td>\n      <td>8.72</td>\n    </tr>\n    <tr>\n      <th>48</th>\n      <td>2</td>\n      <td>AISI 430 A. I.</td>\n      <td>Lám. Cal. 12</td>\n      <td>101.60</td>\n      <td>53.98</td>\n      <td>0.08</td>\n    </tr>\n    <tr>\n      <th>22</th>\n      <td>1</td>\n      <td>AISI 430 A. I.</td>\n      <td>Lám. Cal. 12</td>\n      <td>2159.00</td>\n      <td>238.28</td>\n      <td>10.34</td>\n    </tr>\n    <tr>\n      <th>15</th>\n      <td>4</td>\n      <td>AISI 430 A. I.</td>\n      <td>Lám. Cal. 12</td>\n      <td>50.80</td>\n      <td>50.80</td>\n      <td>0.05</td>\n    </tr>\n    <tr>\n      <th>34</th>\n      <td>1</td>\n      <td>AISI 430 A. I.</td>\n      <td>Lám. Cal. 12</td>\n      <td>2159.00</td>\n      <td>169.69</td>\n      <td>7.25</td>\n    </tr>\n    <tr>\n      <th>51</th>\n      <td>2</td>\n      <td>AISI 430 A. I.</td>\n      <td>Lám. Cal. 12</td>\n      <td>101.60</td>\n      <td>38.10</td>\n      <td>0.07</td>\n    </tr>\n    <tr>\n      <th>13</th>\n      <td>4</td>\n      <td>AISI 430 A. I.</td>\n      <td>Lám. Cal. 12</td>\n      <td>153.82</td>\n      <td>127.00</td>\n      <td>0.35</td>\n    </tr>\n    <tr>\n      <th>3</th>\n      <td>2</td>\n      <td>AISI 430 A. I.</td>\n      <td>Lám. Cal. 14</td>\n      <td>513.79</td>\n      <td>155.61</td>\n      <td>0.68</td>\n    </tr>\n    <tr>\n      <th>109</th>\n      <td>2</td>\n      <td>AISI 430 A. I.</td>\n      <td>Lám. Cal. 14</td>\n      <td>491.09</td>\n      <td>227.72</td>\n      <td>0.90</td>\n    </tr>\n    <tr>\n      <th>110</th>\n      <td>2</td>\n      <td>AISI 430 A. I.</td>\n      <td>Lám. Cal. 14</td>\n      <td>432.59</td>\n      <td>146.05</td>\n      <td>0.55</td>\n    </tr>\n    <tr>\n      <th>2</th>\n      <td>2</td>\n      <td>AISI 430 A. I.</td>\n      <td>Lám. Cal. 14</td>\n      <td>491.09</td>\n      <td>307.72</td>\n      <td>1.11</td>\n    </tr>\n    <tr>\n      <th>46</th>\n      <td>1</td>\n      <td>AISI 430 A. I.</td>\n      <td>PTR Cuadrado 1.5\" x 1.5\" Cal. 14</td>\n      <td>1135.00</td>\n      <td>NaN</td>\n      <td>2.23</td>\n    </tr>\n    <tr>\n      <th>42</th>\n      <td>3</td>\n      <td>AISI 430 A. I.</td>\n      <td>PTR Cuadrado 1.5\" x 1.5\" Cal. 14</td>\n      <td>1516.00</td>\n      <td>NaN</td>\n      <td>2.98</td>\n    </tr>\n    <tr>\n      <th>50</th>\n      <td>1</td>\n      <td>AISI 430 A. I.</td>\n      <td>PTR Cuadrado 1.5\" x 1.5\" Cal. 14</td>\n      <td>754.00</td>\n      <td>NaN</td>\n      <td>1.48</td>\n    </tr>\n    <tr>\n      <th>12</th>\n      <td>1</td>\n      <td>AISI 430 A. I.</td>\n      <td>PTR Cuadrado 2\" x 2\" Cal. 14</td>\n      <td>20430.20</td>\n      <td>NaN</td>\n      <td>54.06</td>\n    </tr>\n    <tr>\n      <th>29</th>\n      <td>2</td>\n      <td>AISI 430 A. I.</td>\n      <td>Placa Esp. 3/16\"</td>\n      <td>80.39</td>\n      <td>28.58</td>\n      <td>0.08</td>\n    </tr>\n    <tr>\n      <th>27</th>\n      <td>2</td>\n      <td>AISI 430 A. I.</td>\n      <td>Placa Esp. 3/16\"</td>\n      <td>80.39</td>\n      <td>28.58</td>\n      <td>0.08</td>\n    </tr>\n    <tr>\n      <th>39</th>\n      <td>1</td>\n      <td>AISI 430 A. I.</td>\n      <td>Placa Esp. 3/16\"</td>\n      <td>80.39</td>\n      <td>28.58</td>\n      <td>0.08</td>\n    </tr>\n    <tr>\n      <th>90</th>\n      <td>2</td>\n      <td>AISI 430 A. I.</td>\n      <td>Placa Esp. 3/16\"</td>\n      <td>133.35</td>\n      <td>31.75</td>\n      <td>0.15</td>\n    </tr>\n    <tr>\n      <th>91</th>\n      <td>2</td>\n      <td>AISI 430 A. I.</td>\n      <td>Placa Esp. 3/16\"</td>\n      <td>31.75</td>\n      <td>25.40</td>\n      <td>0.03</td>\n    </tr>\n    <tr>\n      <th>24</th>\n      <td>1</td>\n      <td>AISI 430 A. I.</td>\n      <td>Placa Esp. 3/16\"</td>\n      <td>80.39</td>\n      <td>28.58</td>\n      <td>0.08</td>\n    </tr>\n    <tr>\n      <th>33</th>\n      <td>2</td>\n      <td>AISI 430 A. I.</td>\n      <td>Placa Esp. 3/16\"</td>\n      <td>80.39</td>\n      <td>28.58</td>\n      <td>0.08</td>\n    </tr>\n    <tr>\n      <th>0</th>\n      <td>1</td>\n      <td>AISI 430 A. I.</td>\n      <td>Redondo de 0.75\"</td>\n      <td>8.00</td>\n      <td>NaN</td>\n      <td>0.01</td>\n    </tr>\n    <tr>\n      <th>60</th>\n      <td>1</td>\n      <td>AISI 1018 Acero</td>\n      <td>Redondo de 1\"</td>\n      <td>1799.00</td>\n      <td>NaN</td>\n      <td>7.07</td>\n    </tr>\n    <tr>\n      <th>81</th>\n      <td>4</td>\n      <td>AISI 1018 Acero</td>\n      <td>Redondo de 1\"</td>\n      <td>494.00</td>\n      <td>NaN</td>\n      <td>1.88</td>\n    </tr>\n    <tr>\n      <th>69</th>\n      <td>8</td>\n      <td>ASTM A36 Acero</td>\n      <td>Redondo de 2.5\"</td>\n      <td>31.75</td>\n      <td>NaN</td>\n      <td>0.29</td>\n    </tr>\n    <tr>\n      <th>85</th>\n      <td>8</td>\n      <td>AISI 1018 Acero</td>\n      <td>Redondo de 2.5\"</td>\n      <td>31.75</td>\n      <td>NaN</td>\n      <td>0.26</td>\n    </tr>\n    <tr>\n      <th>96</th>\n      <td>3</td>\n      <td>A. C.</td>\n      <td>N/A</td>\n      <td>377.83</td>\n      <td>NaN</td>\n      <td>0.01</td>\n    </tr>\n    <tr>\n      <th>86</th>\n      <td>4</td>\n      <td>PVC</td>\n      <td>N/A</td>\n      <td>1453.41</td>\n      <td>66.26</td>\n      <td>0.59</td>\n    </tr>\n    <tr>\n      <th>70</th>\n      <td>4</td>\n      <td>PVC</td>\n      <td>N/A</td>\n      <td>1453.41</td>\n      <td>66.26</td>\n      <td>0.59</td>\n    </tr>\n  </tbody>\n</table>\n</div>"
     },
     "execution_count": 28,
     "metadata": {},
     "output_type": "execute_result"
    }
   ],
   "source": [
    "rawMaterial = f_rawMaterial(xlsxSrcToDF, [4, 5, 6, 7, 8, 9], 1, 2, 3)\n",
    "rawMaterial = f_clearNaN(rawMaterial,2)\n",
    "rawMaterial"
   ],
   "metadata": {
    "collapsed": false
   }
  },
  {
   "cell_type": "code",
   "execution_count": 29,
   "outputs": [
    {
     "data": {
      "text/plain": "array(['ASTM A36 Acero', 'AISI 430 A. I.', 'AISI 1018 Acero', 'A. C.',\n       'PVC'], dtype=object)"
     },
     "execution_count": 29,
     "metadata": {},
     "output_type": "execute_result"
    }
   ],
   "source": [
    "values = rawMaterial.iloc[:,1]\n",
    "values = values.unique()\n",
    "values"
   ],
   "metadata": {
    "collapsed": false
   }
  },
  {
   "cell_type": "code",
   "execution_count": 30,
   "outputs": [
    {
     "data": {
      "text/plain": "array(['Cuadrado 0.25\" x 0.25\"', 'Lám. Cal. 10', 'Lám. Cal. 12',\n       'Lám. Cal. 14', 'PTR Cuadrado 1.5\" x 1.5\" Cal. 14',\n       'PTR Cuadrado 2\" x 2\" Cal. 14', 'Placa Esp. 3/16\"',\n       'Redondo de 0.75\"', 'Redondo de 1\"', 'Redondo de 2.5\"', 'N/A'],\n      dtype=object)"
     },
     "execution_count": 30,
     "metadata": {},
     "output_type": "execute_result"
    }
   ],
   "source": [
    "values2 = rawMaterial.iloc[:,2]\n",
    "values2 = values2.unique()\n",
    "values2"
   ],
   "metadata": {
    "collapsed": false
   }
  },
  {
   "cell_type": "code",
   "execution_count": 30,
   "outputs": [],
   "source": [],
   "metadata": {
    "collapsed": false
   }
  },
  {
   "cell_type": "code",
   "execution_count": 31,
   "outputs": [
    {
     "name": "stdout",
     "output_type": "stream",
     "text": [
      "['ASTM A36 Acero' 'AISI 430 A. I.' 'AISI 1018 Acero' 'A. C.' 'PVC']\n",
      "['Cuadrado 0.25\" x 0.25\"' 'Lám. Cal. 10' 'Lám. Cal. 12' 'Lám. Cal. 14'\n",
      " 'PTR Cuadrado 1.5\" x 1.5\" Cal. 14' 'PTR Cuadrado 2\" x 2\" Cal. 14'\n",
      " 'Placa Esp. 3/16\"' 'Redondo de 0.75\"' 'Redondo de 1\"' 'Redondo de 2.5\"'\n",
      " 'N/A']\n",
      "[[1. 0. 0. 0. 0. 0. 0. 0. 0. 1. 0.]\n",
      " [0. 1. 1. 1. 1. 1. 1. 1. 0. 0. 0.]\n",
      " [0. 0. 0. 0. 0. 0. 0. 0. 1. 1. 0.]\n",
      " [0. 0. 0. 0. 0. 0. 0. 0. 0. 0. 1.]\n",
      " [0. 0. 0. 0. 0. 0. 0. 0. 0. 0. 1.]]\n",
      "Material                ASTM A36 Acero\n",
      "Presentacion    Cuadrado 0.25\" x 0.25\"\n",
      "Total                           430.78\n",
      "dtype: object\n",
      "Material         ASTM A36 Acero\n",
      "Presentacion    Redondo de 2.5\"\n",
      "Total                     254.0\n",
      "dtype: object\n",
      "Material        AISI 430 A. I.\n",
      "Presentacion      Lám. Cal. 10\n",
      "Total              116437.1838\n",
      "dtype: object\n",
      "Material        AISI 430 A. I.\n",
      "Presentacion      Lám. Cal. 12\n",
      "Total              3113278.762\n",
      "dtype: object\n",
      "Material        AISI 430 A. I.\n",
      "Presentacion      Lám. Cal. 14\n",
      "Total               812159.722\n",
      "dtype: object\n",
      "Material                          AISI 430 A. I.\n",
      "Presentacion    PTR Cuadrado 1.5\" x 1.5\" Cal. 14\n",
      "Total                                     6437.0\n",
      "dtype: object\n",
      "Material                      AISI 430 A. I.\n",
      "Presentacion    PTR Cuadrado 2\" x 2\" Cal. 14\n",
      "Total                                20430.2\n",
      "dtype: object\n",
      "Material          AISI 430 A. I.\n",
      "Presentacion    Placa Esp. 3/16\"\n",
      "Total                 28460.9946\n",
      "dtype: object\n",
      "Material          AISI 430 A. I.\n",
      "Presentacion    Redondo de 0.75\"\n",
      "Total                        8.0\n",
      "dtype: object\n",
      "Material        AISI 1018 Acero\n",
      "Presentacion      Redondo de 1\"\n",
      "Total                    3775.0\n",
      "dtype: object\n",
      "Material        AISI 1018 Acero\n",
      "Presentacion    Redondo de 2.5\"\n",
      "Total                     254.0\n",
      "dtype: object\n",
      "Material          A. C.\n",
      "Presentacion        N/A\n",
      "Total           1133.49\n",
      "dtype: object\n",
      "Material                PVC\n",
      "Presentacion            N/A\n",
      "Total           770423.5728\n",
      "dtype: object\n"
     ]
    },
    {
     "data": {
      "text/plain": "           Material                      Presentacion        Total\n0    ASTM A36 Acero            Cuadrado 0.25\" x 0.25\"       430.78\n1    ASTM A36 Acero                   Redondo de 2.5\"        254.0\n2    AISI 430 A. I.                      Lám. Cal. 10  116437.1838\n3    AISI 430 A. I.                      Lám. Cal. 12  3113278.762\n4    AISI 430 A. I.                      Lám. Cal. 14   812159.722\n5    AISI 430 A. I.  PTR Cuadrado 1.5\" x 1.5\" Cal. 14       6437.0\n6    AISI 430 A. I.      PTR Cuadrado 2\" x 2\" Cal. 14      20430.2\n7    AISI 430 A. I.                  Placa Esp. 3/16\"   28460.9946\n8    AISI 430 A. I.                  Redondo de 0.75\"          8.0\n9   AISI 1018 Acero                     Redondo de 1\"       3775.0\n10  AISI 1018 Acero                   Redondo de 2.5\"        254.0\n11            A. C.                               N/A      1133.49\n12              PVC                               N/A  770423.5728",
      "text/html": "<div>\n<style scoped>\n    .dataframe tbody tr th:only-of-type {\n        vertical-align: middle;\n    }\n\n    .dataframe tbody tr th {\n        vertical-align: top;\n    }\n\n    .dataframe thead th {\n        text-align: right;\n    }\n</style>\n<table border=\"1\" class=\"dataframe\">\n  <thead>\n    <tr style=\"text-align: right;\">\n      <th></th>\n      <th>Material</th>\n      <th>Presentacion</th>\n      <th>Total</th>\n    </tr>\n  </thead>\n  <tbody>\n    <tr>\n      <th>0</th>\n      <td>ASTM A36 Acero</td>\n      <td>Cuadrado 0.25\" x 0.25\"</td>\n      <td>430.78</td>\n    </tr>\n    <tr>\n      <th>1</th>\n      <td>ASTM A36 Acero</td>\n      <td>Redondo de 2.5\"</td>\n      <td>254.0</td>\n    </tr>\n    <tr>\n      <th>2</th>\n      <td>AISI 430 A. I.</td>\n      <td>Lám. Cal. 10</td>\n      <td>116437.1838</td>\n    </tr>\n    <tr>\n      <th>3</th>\n      <td>AISI 430 A. I.</td>\n      <td>Lám. Cal. 12</td>\n      <td>3113278.762</td>\n    </tr>\n    <tr>\n      <th>4</th>\n      <td>AISI 430 A. I.</td>\n      <td>Lám. Cal. 14</td>\n      <td>812159.722</td>\n    </tr>\n    <tr>\n      <th>5</th>\n      <td>AISI 430 A. I.</td>\n      <td>PTR Cuadrado 1.5\" x 1.5\" Cal. 14</td>\n      <td>6437.0</td>\n    </tr>\n    <tr>\n      <th>6</th>\n      <td>AISI 430 A. I.</td>\n      <td>PTR Cuadrado 2\" x 2\" Cal. 14</td>\n      <td>20430.2</td>\n    </tr>\n    <tr>\n      <th>7</th>\n      <td>AISI 430 A. I.</td>\n      <td>Placa Esp. 3/16\"</td>\n      <td>28460.9946</td>\n    </tr>\n    <tr>\n      <th>8</th>\n      <td>AISI 430 A. I.</td>\n      <td>Redondo de 0.75\"</td>\n      <td>8.0</td>\n    </tr>\n    <tr>\n      <th>9</th>\n      <td>AISI 1018 Acero</td>\n      <td>Redondo de 1\"</td>\n      <td>3775.0</td>\n    </tr>\n    <tr>\n      <th>10</th>\n      <td>AISI 1018 Acero</td>\n      <td>Redondo de 2.5\"</td>\n      <td>254.0</td>\n    </tr>\n    <tr>\n      <th>11</th>\n      <td>A. C.</td>\n      <td>N/A</td>\n      <td>1133.49</td>\n    </tr>\n    <tr>\n      <th>12</th>\n      <td>PVC</td>\n      <td>N/A</td>\n      <td>770423.5728</td>\n    </tr>\n  </tbody>\n</table>\n</div>"
     },
     "execution_count": 31,
     "metadata": {},
     "output_type": "execute_result"
    }
   ],
   "source": [
    "xlsxRawMaterialUnique = f_uniqueRawQuantity(rawMaterial)\n",
    "xlsxRawMaterialUnique"
   ],
   "metadata": {
    "collapsed": false
   }
  },
  {
   "cell_type": "code",
   "execution_count": 31,
   "outputs": [],
   "source": [],
   "metadata": {
    "collapsed": false
   }
  },
  {
   "cell_type": "code",
   "execution_count": 32,
   "outputs": [
    {
     "name": "stderr",
     "output_type": "stream",
     "text": [
      "C:\\Users\\erodr\\AppData\\Local\\Temp\\ipykernel_43324\\3350119021.py:15: FutureWarning: save is not part of the public API, usage can give unexpected results and will be removed in a future version\n",
      "  writer.save()\n"
     ]
    }
   ],
   "source": [
    "writer = ExcelWriter(xlsxName)\n",
    "\n",
    "xlsxSrcToDF = xlsxSrcToDF.reset_index(drop=True)\n",
    "xlsxSrcToDF.to_excel(writer, 'Source')\n",
    "\n",
    "manufacturingToXLSX = manufacturingToXLSX.reset_index(drop=True)\n",
    "manufacturingToXLSX.to_excel(writer, 'Manufacture')\n",
    "\n",
    "comercialToXLSX = comercialToXLSX.reset_index(drop=True)\n",
    "comercialToXLSX.to_excel(writer, 'Comercial')\n",
    "\n",
    "xlsxRawMaterialUnique.to_excel(writer, 'RawMaterials')\n",
    "\n",
    "\n",
    "writer.save()\n",
    "writer.close()"
   ],
   "metadata": {
    "collapsed": false
   }
  },
  {
   "cell_type": "code",
   "execution_count": 33,
   "outputs": [],
   "source": [
    "doc = Document()\n",
    "page = Page(PageSize.TABLOID_LANDSCAPE.value[0], PageSize.TABLOID_LANDSCAPE.value[1],)\n",
    "\n",
    "doc.add_page(page)\n",
    "pageLayOut = SingleColumnLayoutWithOverflow(page)\n",
    "pageLayOut._vertical_margin_top = page.get_page_info().get_height() * Decimal(0.02)\n",
    "pageLayOut._vertical_margin_bottom = page.get_page_info().get_height() * Decimal(0.02)\n",
    "pageLayOut._horizontal_margin = page.get_page_info().get_width() * Decimal(0.01)\n",
    "\n",
    "rows, columns = manufacturingDF.shape\n",
    "xlsxManufactureArray = manufacturingDF.to_numpy()\n"
   ],
   "metadata": {
    "collapsed": false
   }
  },
  {
   "cell_type": "code",
   "execution_count": 33,
   "outputs": [],
   "source": [],
   "metadata": {
    "collapsed": false
   }
  },
  {
   "cell_type": "code",
   "execution_count": 34,
   "outputs": [
    {
     "ename": "SyntaxError",
     "evalue": "invalid syntax (1746554950.py, line 1)",
     "output_type": "error",
     "traceback": [
      "\u001B[1;36m  Cell \u001B[1;32mIn[34], line 1\u001B[1;36m\u001B[0m\n\u001B[1;33m    xlsxManufactureArray.\u001B[0m\n\u001B[1;37m                         ^\u001B[0m\n\u001B[1;31mSyntaxError\u001B[0m\u001B[1;31m:\u001B[0m invalid syntax\n"
     ]
    }
   ],
   "source": [
    "\n",
    "xlsxManufactureArray."
   ],
   "metadata": {
    "collapsed": false
   }
  },
  {
   "cell_type": "code",
   "execution_count": null,
   "outputs": [],
   "source": [
    "from borb.pdf.canvas.color.color import HexColor, X11Color\n",
    "from borb.pdf.canvas.layout.table.fixed_column_width_table import FixedColumnWidthTable as Table\n",
    "#from borb.pdf.canvas.layout.table.flexible_column_width_table import FlexibleColumnWidthTable as Table\n",
    "rows, columns = manufacturingDF.shape\n",
    "columnsDF = manufacturingDF.columns.to_numpy()\n",
    "\n",
    "manufactureTable = Table(number_of_rows = rows, number_of_columns = columns)\n",
    "for h in  columnsDF:\n",
    "    manufactureTable.add(\n",
    "        TableCell(\n",
    "            Paragraph(h, font_color=X11Color(\"White\")),\n",
    "            background_color=HexColor(\"016934\")\n",
    "        )\n",
    "    )\n",
    "print(xlsxManufactureArray.shape)\n",
    "data = 0\n",
    "for i in iter(xlsxManufactureArray):\n",
    "    print(i)\n",
    "    for j in range(len(i):\n",
    "        print(j)\n",
    "        print(i[j])\n",
    "        data = i[j]\n",
    "        print(data)\n",
    "        manufactureTable.add(Paragraph(data))\n",
    "\n",
    "\n",
    "\n",
    "\n",
    "\n",
    "pageLayOut.add(manufactureTable)\n",
    "\n",
    "with open(\"output.pdf\", \"wb\") as out_file_handle:\n",
    "    PDF.dumps(out_file_handle, doc)"
   ],
   "metadata": {
    "collapsed": false
   }
  },
  {
   "cell_type": "code",
   "execution_count": null,
   "outputs": [],
   "source": [
    "x\n",
    "pageLayOut.add(\n",
    "    #TableUtil.from_2d_array(xlsxManufactureArray,flexible_column_width=True)\n",
    "    #TableCell.\n",
    "\n",
    "    )\n",
    "# store\n",
    "with open(\"output.pdf\", \"wb\") as out_file_handle:\n",
    "    PDF.dumps(out_file_handle, doc)"
   ],
   "metadata": {
    "collapsed": false
   }
  },
  {
   "cell_type": "code",
   "execution_count": null,
   "outputs": [],
   "source": [
    "xlsxRawMaterial = xlsxSrcToDF[xlsxSrcToDF.columns[[4, 5, 6, 7, 8]]]\n",
    "srie = xlsxRawMaterial.columns.values.tolist()\n",
    "print(srie)\n",
    "\n",
    "xlsxRawMaterial = xlsxRawMaterial.sort_values(by=srie[1])\n",
    "xlsxRawMaterial = xlsxRawMaterial.sort_values(by=srie[2])\n",
    "\n",
    "xlsxRawMaterial = xlsxRawMaterial[xlsxRawMaterial[srie[3]] > 0]\n",
    "xlsxRawMaterial"
   ],
   "metadata": {
    "collapsed": false
   }
  },
  {
   "cell_type": "code",
   "execution_count": null,
   "outputs": [],
   "source": [],
   "metadata": {
    "collapsed": false
   }
  },
  {
   "cell_type": "code",
   "execution_count": null,
   "outputs": [],
   "source": [
    "                if found[i_iteration] == 0:\n",
    "                    found[i_iteration] = 1\n",
    "                    quantity[i_iteration] += int(_dataFrame.iat[i,3])\n",
    "                else:\n",
    "                    quantity[i_iteration] += int(_dataFrame.iat[i,3])\n",
    "                    rowToDelete[i] = _dataFrame.index.values[i]\n",
    "                found[i_iteration] = 1\n",
    "                print(found)\n",
    "            i_iteration += 1\n",
    "\n",
    "    for i in rowToDelete:\n",
    "        if i != 0:\n",
    "            uniqueDataFrame = uniqueDataFrame.drop(i)\n",
    "            #print(j)\n",
    "\n",
    "    print('Result')\n",
    "    print(found)\n",
    "    print(quantity)\n",
    "    print(rowToDelete)\n",
    "\n",
    "    i_iteration = 0\n",
    "    for i in quantity:\n",
    "        print(i)\n",
    "        print(i_iteration)\n",
    "        uniqueDataFrame.iat[i_iteration,3] = i\n",
    "        i_iteration += 1"
   ],
   "metadata": {
    "collapsed": false
   }
  }
 ],
 "metadata": {
  "kernelspec": {
   "display_name": "Python 3",
   "language": "python",
   "name": "python3"
  },
  "language_info": {
   "codemirror_mode": {
    "name": "ipython",
    "version": 2
   },
   "file_extension": ".py",
   "mimetype": "text/x-python",
   "name": "python",
   "nbconvert_exporter": "python",
   "pygments_lexer": "ipython2",
   "version": "2.7.6"
  }
 },
 "nbformat": 4,
 "nbformat_minor": 0
}
